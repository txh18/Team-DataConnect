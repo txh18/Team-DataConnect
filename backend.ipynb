{
 "cells": [
  {
   "cell_type": "markdown",
   "id": "c846f757-d50e-4d9a-8e50-a5e21f38b69e",
   "metadata": {
    "tags": []
   },
   "source": [
    "<div class=\"alert alert-block alert-info\" style=\"background-color: #3066BE; color: white;\">\n",
    "    <h1 style=\"color: white;\">DSA3101 Backend</h1>\n",
    "</div>"
   ]
  },
  {
   "cell_type": "code",
   "execution_count": 35,
   "id": "f96e2019-eee6-4c44-a7e9-50753b43773e",
   "metadata": {
    "tags": []
   },
   "outputs": [],
   "source": [
    "# !pip install langchain\n",
    "# !pip install --upgrade --quiet  langchain-google-vertexai"
   ]
  },
  {
   "cell_type": "code",
   "execution_count": 19,
   "id": "8a32b49d-baef-414f-87bc-0cce2be0c5cf",
   "metadata": {
    "tags": []
   },
   "outputs": [],
   "source": [
    "# import dotenv\n",
    "# dotenv.load_dotenv()"
   ]
  },
  {
   "cell_type": "code",
   "execution_count": 10,
   "id": "0947e665-63e7-43e5-85e8-3cc6e2ad0fcc",
   "metadata": {
    "tags": []
   },
   "outputs": [
    {
     "name": "stdout",
     "output_type": "stream",
     "text": [
      "Note: you may need to restart the kernel to use updated packages.\n"
     ]
    }
   ],
   "source": [
    "# pip freeze > requirements.txt"
   ]
  },
  {
   "cell_type": "markdown",
   "id": "996ed702-e900-4e22-8ee0-0185873fec4b",
   "metadata": {},
   "source": [
    "# Setting up google-auth \n",
    "- https://mayankgpt50.medium.com/setting-up-gcp-account-with-local-system-unlocking-bigquery-and-cloud-storage-using-jupyter-8b13435118c4"
   ]
  },
  {
   "cell_type": "code",
   "execution_count": 1,
   "id": "67dabdf8-d3c1-46cf-9a6d-f7e06b918c91",
   "metadata": {
    "tags": []
   },
   "outputs": [],
   "source": [
    "# !pip install google-auth\n",
    "# !pip install google-cloud-bigquery\n",
    "# !pip install google-cloud-storage"
   ]
  },
  {
   "cell_type": "code",
   "execution_count": 6,
   "id": "d8d0f54b-a08a-455c-a5f8-74576601329d",
   "metadata": {
    "tags": []
   },
   "outputs": [],
   "source": [
    "from google.cloud import bigquery\n",
    "import google.auth\n",
    "\n",
    "# Create credentials with Drive & BigQuery API scopes.\n",
    "# Both APIs must be enabled for your project before running this code.\n",
    "#\n",
    "# If you are using credentials from gcloud, you must authorize the\n",
    "# application first with the following command:\n",
    "#\n",
    "# gcloud auth application-default login \\\n",
    "#   --scopes=https://www.googleapis.com/auth/drive,https://www.googleapis.com/auth/cloud-platform\n",
    "\n",
    "credentials, project = google.auth.default(\n",
    "    scopes=[\n",
    "        \"https://www.googleapis.com/auth/drive\",\n",
    "        \"https://www.googleapis.com/auth/cloud-platform\",\n",
    "    ]\n",
    ")\n",
    "\n",
    "# Construct a BigQuery client object.\n",
    "client = bigquery.Client(credentials=credentials, project=project)"
   ]
  },
  {
   "cell_type": "code",
   "execution_count": 7,
   "id": "2d8fa470-bf9a-423d-8882-22e794c8d780",
   "metadata": {
    "tags": []
   },
   "outputs": [],
   "source": [
    "# Importing the library \n",
    "import google.auth\n",
    "\n",
    "# Setting up credentials\n",
    "credentials, _ = google.auth.default()\n",
    "credentials = google.auth.credentials.with_scopes_if_required(credentials, bigquery.Client.SCOPE)\n",
    "authed_http = google.auth.transport.requests.AuthorizedSession(credentials)"
   ]
  },
  {
   "cell_type": "markdown",
   "id": "216e1e3e-f5b8-4f53-a52f-4600e84f2f90",
   "metadata": {},
   "source": [
    "# Code begins here"
   ]
  },
  {
   "cell_type": "code",
   "execution_count": 1,
   "id": "9470e2e7-707b-4369-852c-b1fe0a8bb8a6",
   "metadata": {
    "tags": []
   },
   "outputs": [
    {
     "ename": "ModuleNotFoundError",
     "evalue": "No module named 'langchain_google_vertexai'",
     "output_type": "error",
     "traceback": [
      "\u001b[1;31m---------------------------------------------------------------------------\u001b[0m",
      "\u001b[1;31mModuleNotFoundError\u001b[0m                       Traceback (most recent call last)",
      "Cell \u001b[1;32mIn[1], line 4\u001b[0m\n\u001b[0;32m      1\u001b[0m \u001b[38;5;28;01mimport\u001b[39;00m \u001b[38;5;21;01mpandas\u001b[39;00m \u001b[38;5;28;01mas\u001b[39;00m \u001b[38;5;21;01mpd\u001b[39;00m\n\u001b[0;32m      3\u001b[0m \u001b[38;5;28;01mfrom\u001b[39;00m \u001b[38;5;21;01mlangchain\u001b[39;00m\u001b[38;5;21;01m.\u001b[39;00m\u001b[38;5;21;01mprompts\u001b[39;00m \u001b[38;5;28;01mimport\u001b[39;00m ChatPromptTemplate\n\u001b[1;32m----> 4\u001b[0m \u001b[38;5;28;01mfrom\u001b[39;00m \u001b[38;5;21;01mlangchain_google_vertexai\u001b[39;00m \u001b[38;5;28;01mimport\u001b[39;00m ChatVertexAI\n\u001b[0;32m      5\u001b[0m \u001b[38;5;28;01mfrom\u001b[39;00m \u001b[38;5;21;01mlangchain_google_vertexai\u001b[39;00m \u001b[38;5;28;01mimport\u001b[39;00m VertexAI\n\u001b[0;32m      6\u001b[0m \u001b[38;5;28;01mfrom\u001b[39;00m \u001b[38;5;21;01mlangchain\u001b[39;00m\u001b[38;5;21;01m.\u001b[39;00m\u001b[38;5;21;01mchains\u001b[39;00m \u001b[38;5;28;01mimport\u001b[39;00m LLMChain\n",
      "\u001b[1;31mModuleNotFoundError\u001b[0m: No module named 'langchain_google_vertexai'"
     ]
    }
   ],
   "source": [
    "import pandas as pd\n",
    "\n",
    "from langchain.prompts import ChatPromptTemplate\n",
    "from langchain_google_vertexai import ChatVertexAI\n",
    "from langchain_google_vertexai import VertexAI\n",
    "from langchain.chains import LLMChain\n",
    "from langchain.prompts import PromptTemplate"
   ]
  },
  {
   "cell_type": "markdown",
   "id": "db665d99-1e2e-43f6-aa2f-6bec189e76b6",
   "metadata": {},
   "source": [
    "## 1. Retrieving relevant product features"
   ]
  },
  {
   "cell_type": "markdown",
   "id": "8382de7a-d1ff-40c3-b73b-1c28d4f38171",
   "metadata": {},
   "source": [
    "- Consumers to key in types of product that they bought for more active engagement\n",
    "- Comments: Instead of keying in, have dropdown fields for consumers to select to streamline information\n",
    "\n",
    "- Once selection is made, a call is made from FRONT to BACK... (eg. >>> Fabric Softener)"
   ]
  },
  {
   "cell_type": "code",
   "execution_count": 3,
   "id": "4aa92f5e-a87d-4710-afac-0d2f4455a59e",
   "metadata": {
    "tags": []
   },
   "outputs": [
    {
     "data": {
      "text/html": [
       "<div>\n",
       "<style scoped>\n",
       "    .dataframe tbody tr th:only-of-type {\n",
       "        vertical-align: middle;\n",
       "    }\n",
       "\n",
       "    .dataframe tbody tr th {\n",
       "        vertical-align: top;\n",
       "    }\n",
       "\n",
       "    .dataframe thead th {\n",
       "        text-align: right;\n",
       "    }\n",
       "</style>\n",
       "<table border=\"1\" class=\"dataframe\">\n",
       "  <thead>\n",
       "    <tr style=\"text-align: right;\">\n",
       "      <th></th>\n",
       "      <th>Product</th>\n",
       "      <th>Features</th>\n",
       "    </tr>\n",
       "  </thead>\n",
       "  <tbody>\n",
       "    <tr>\n",
       "      <th>0</th>\n",
       "      <td>Diapers</td>\n",
       "      <td>Price, Comfort, Absorbance, Fit, Material</td>\n",
       "    </tr>\n",
       "    <tr>\n",
       "      <th>1</th>\n",
       "      <td>Pants</td>\n",
       "      <td>Price, Comfort, Absorbance, Fit, Material</td>\n",
       "    </tr>\n",
       "    <tr>\n",
       "      <th>2</th>\n",
       "      <td>Wipes</td>\n",
       "      <td>Price, Fragrance, Packaging, Quality</td>\n",
       "    </tr>\n",
       "    <tr>\n",
       "      <th>3</th>\n",
       "      <td>Fabric Softener</td>\n",
       "      <td>Price, Scent, Packaging, Utility, Effectiveness</td>\n",
       "    </tr>\n",
       "    <tr>\n",
       "      <th>4</th>\n",
       "      <td>Scent Beads</td>\n",
       "      <td>Price, Scent, Packaging, Effectiveness</td>\n",
       "    </tr>\n",
       "  </tbody>\n",
       "</table>\n",
       "</div>"
      ],
      "text/plain": [
       "           Product                                         Features\n",
       "0          Diapers        Price, Comfort, Absorbance, Fit, Material\n",
       "1            Pants        Price, Comfort, Absorbance, Fit, Material\n",
       "2            Wipes             Price, Fragrance, Packaging, Quality\n",
       "3  Fabric Softener  Price, Scent, Packaging, Utility, Effectiveness\n",
       "4      Scent Beads           Price, Scent, Packaging, Effectiveness"
      ]
     },
     "execution_count": 3,
     "metadata": {},
     "output_type": "execute_result"
    }
   ],
   "source": [
    "# df = pd.read_csv('product_information.csv')\n",
    "df = pd.read_csv('product_info.csv')\n",
    "df"
   ]
  },
  {
   "cell_type": "code",
   "execution_count": 4,
   "id": "e5995381-e238-4a76-a9f0-4c2b514c5e31",
   "metadata": {
    "tags": []
   },
   "outputs": [
    {
     "data": {
      "text/plain": [
       "'Price, Scent, Packaging, Utility, Effectiveness'"
      ]
     },
     "execution_count": 4,
     "metadata": {},
     "output_type": "execute_result"
    }
   ],
   "source": [
    "# input from frontend\n",
    "selected_product = \"Fabric Softener\"\n",
    "\n",
    "features = df.loc[df['Product'] == selected_product, 'Features'].values[0]\n",
    "features"
   ]
  },
  {
   "cell_type": "code",
   "execution_count": 5,
   "id": "ca85d821-334e-4a40-abf0-b04833af71b2",
   "metadata": {
    "tags": []
   },
   "outputs": [],
   "source": [
    "# input from frontend\n",
    "feedback = \"The fabric softener has a nice floral scent, have been using this softener for quite some time. The price is okay too since I bought it as a discounted value pack.\""
   ]
  },
  {
   "cell_type": "markdown",
   "id": "0db58e94-ce40-4edc-adc7-379504589cdb",
   "metadata": {},
   "source": [
    "## 2. Using LLM to extract response on product features"
   ]
  },
  {
   "cell_type": "code",
   "execution_count": 50,
   "id": "9a16e436-f2ac-48ce-8bc5-d3ea78aed7e6",
   "metadata": {
    "tags": []
   },
   "outputs": [],
   "source": [
    "system = \"\"\"\n",
    "Your job is to extract different features of a product from customer feedbacks. \n",
    "\n",
    "Consider the following format for output, leave response as a python dictionary:\n",
    "# Feature 1: Concise review on feature 1\n",
    "# Feature 2: Concise review on feature 2\n",
    "# Feature 3: Concise review on feature 3\n",
    "# Feature 4: Concise review on feature 4\n",
    "\n",
    "Eg. \n",
    "Price: Reasonable\n",
    "Scent: Pleasant and refreshing smell\n",
    "Effectiveness: Good\n",
    "\n",
    "Here is the list of features to categorise the feedback into: {features}\n",
    "If features are not mentioned, leave section as empty python string.\n",
    "Provide your output here:\n",
    "\"\"\"\n",
    "\n",
    "human = \"\"\"\n",
    "{feedback}\n",
    "\"\"\"\n",
    "prompt = ChatPromptTemplate.from_messages([(\"system\", system), (\"human\", human)])\n",
    "\n",
    "chat = ChatVertexAI(model_name=\"gemini-pro\", convert_system_message_to_human=True)\n",
    "# chat = ChatVertexAI(llm=llm, convert_system_message_to_human=True)\n",
    "\n",
    "chain = prompt | chat\n",
    "text = chain.invoke({\n",
    "    \"feedback\": feedback,\n",
    "    \"features\": features,\n",
    "})"
   ]
  },
  {
   "cell_type": "code",
   "execution_count": 51,
   "id": "28f348ea-0501-4652-9878-4e43c9bb308e",
   "metadata": {
    "tags": []
   },
   "outputs": [
    {
     "data": {
      "text/plain": [
       "AIMessage(content='{\\n\"Price\": \"The price is okay.\",\\n\"Scent\": \"The fabric softener has a nice floral scent\",\\n\"Packaging\": \"\",\\n\"Utility\": \"\",\\n\"Effectiveness\": \"\"\\n}', response_metadata={'is_blocked': False, 'safety_ratings': [{'category': 'HARM_CATEGORY_HATE_SPEECH', 'probability_label': 'NEGLIGIBLE', 'blocked': False}, {'category': 'HARM_CATEGORY_DANGEROUS_CONTENT', 'probability_label': 'NEGLIGIBLE', 'blocked': False}, {'category': 'HARM_CATEGORY_HARASSMENT', 'probability_label': 'NEGLIGIBLE', 'blocked': False}, {'category': 'HARM_CATEGORY_SEXUALLY_EXPLICIT', 'probability_label': 'NEGLIGIBLE', 'blocked': False}], 'citation_metadata': None, 'usage_metadata': {'prompt_token_count': 178, 'candidates_token_count': 42, 'total_token_count': 220}})"
      ]
     },
     "execution_count": 51,
     "metadata": {},
     "output_type": "execute_result"
    }
   ],
   "source": [
    "text"
   ]
  },
  {
   "cell_type": "code",
   "execution_count": 52,
   "id": "bdbc04a8-6aed-43d8-bc5e-76a505334ff9",
   "metadata": {
    "tags": []
   },
   "outputs": [
    {
     "data": {
      "text/plain": [
       "'{\\n\"Price\": \"The price is okay.\",\\n\"Scent\": \"The fabric softener has a nice floral scent\",\\n\"Packaging\": \"\",\\n\"Utility\": \"\",\\n\"Effectiveness\": \"\"\\n}'"
      ]
     },
     "execution_count": 52,
     "metadata": {},
     "output_type": "execute_result"
    }
   ],
   "source": [
    "text.content"
   ]
  },
  {
   "cell_type": "code",
   "execution_count": 53,
   "id": "21ef4afe-2237-4e6b-825e-c2d0f4263b30",
   "metadata": {
    "tags": []
   },
   "outputs": [
    {
     "data": {
      "text/plain": [
       "{'Price': 'The price is okay.',\n",
       " 'Scent': 'The fabric softener has a nice floral scent',\n",
       " 'Packaging': '',\n",
       " 'Utility': '',\n",
       " 'Effectiveness': ''}"
      ]
     },
     "execution_count": 53,
     "metadata": {},
     "output_type": "execute_result"
    }
   ],
   "source": [
    "features_dict = eval(text.content)\n",
    "features_dict"
   ]
  },
  {
   "cell_type": "markdown",
   "id": "a7802763-4b0f-44cf-b750-7f54da943521",
   "metadata": {},
   "source": [
    "### Identify missing features"
   ]
  },
  {
   "cell_type": "code",
   "execution_count": 30,
   "id": "ccb12379-8cbe-4cc3-830b-95f0158e02bf",
   "metadata": {
    "tags": []
   },
   "outputs": [
    {
     "data": {
      "text/plain": [
       "['Packaging', 'Utility', 'Effectiveness']"
      ]
     },
     "execution_count": 30,
     "metadata": {},
     "output_type": "execute_result"
    }
   ],
   "source": [
    "missing_features = []\n",
    "for f in features_dict:\n",
    "    if features_dict[f] == \"\":\n",
    "        missing_features.append(f)\n",
    "missing_features"
   ]
  },
  {
   "cell_type": "markdown",
   "id": "0f822f17-5fcd-40b2-9726-5f32a274e657",
   "metadata": {},
   "source": [
    "## 3. Generate new questions based on missing features"
   ]
  },
  {
   "cell_type": "code",
   "execution_count": 61,
   "id": "979bcdfa-21fb-4705-89f2-5060207e0ad8",
   "metadata": {
    "tags": []
   },
   "outputs": [],
   "source": [
    "template = \"\"\"\n",
    "Your job is to ask customers questions about the {selected_product} based on the {missing_features}.\n",
    "\"\"\"\n",
    "\n",
    "prompt = PromptTemplate(template=template, input_variables=[\"selected_product\", \"missing_feature\"])\n",
    "llm_chain = LLMChain(llm=llm, prompt=prompt)\n",
    "questions = llm_chain.invoke(input={'selected_product':selected_product, 'missing_features':missing_features})"
   ]
  },
  {
   "cell_type": "code",
   "execution_count": 64,
   "id": "9f371966-d871-44a4-a170-b20054cb445d",
   "metadata": {
    "tags": []
   },
   "outputs": [
    {
     "data": {
      "text/plain": [
       "'**Packaging**\\n\\n* How satisfied are you with the packaging of the fabric softener?\\n* Is the packaging easy to open and reseal?\\n* Do you find the packaging to be attractive and informative?\\n* Are there any improvements you would suggest for the packaging?\\n\\n**Utility**\\n\\n* How easy is it to use the fabric softener?\\n* Does the fabric softener dispense easily from the bottle?\\n* Can you use the fabric softener in both top-loading and front-loading washing machines?\\n* Are there any specific instructions or precautions you need to follow when using the fabric softener?\\n\\n**Effectiveness**\\n\\n* How effective is the fabric softener at softening your clothes?\\n* Does the fabric softener reduce static cling?\\n* Does the fabric softener leave a pleasant scent on your clothes?\\n* Have you noticed any improvement in the texture or appearance of your clothes after using the fabric softener?\\n* Are there any specific types of fabrics or garments that you find the fabric softener to be particularly effective on?'"
      ]
     },
     "execution_count": 64,
     "metadata": {},
     "output_type": "execute_result"
    }
   ],
   "source": [
    "questions['text']"
   ]
  }
 ],
 "metadata": {
  "environment": {
   "kernel": "conda-root-py",
   "name": "workbench-notebooks.m119",
   "type": "gcloud",
   "uri": "us-docker.pkg.dev/deeplearning-platform-release/gcr.io/workbench-notebooks:m119"
  },
  "kernelspec": {
   "display_name": "Python 3 (ipykernel)",
   "language": "python",
   "name": "python3"
  },
  "language_info": {
   "codemirror_mode": {
    "name": "ipython",
    "version": 3
   },
   "file_extension": ".py",
   "mimetype": "text/x-python",
   "name": "python",
   "nbconvert_exporter": "python",
   "pygments_lexer": "ipython3",
   "version": "3.11.5"
  }
 },
 "nbformat": 4,
 "nbformat_minor": 5
}
